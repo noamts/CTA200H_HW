{
 "cells": [
  {
   "cell_type": "code",
   "execution_count": 58,
   "id": "a39f52d3-4fcf-4238-9dde-5160a005c0f0",
   "metadata": {},
   "outputs": [
    {
     "name": "stdout",
     "output_type": "stream",
     "text": [
      "Iteration failed.\n",
      "None\n"
     ]
    }
   ],
   "source": [
    "# import numpy\n",
    "import numpy as np\n",
    "\n",
    "\"\"\"\n",
    "This function calculates the value of x^3 - x^2 -1 \n",
    "Parameters: this function requires some int x\n",
    "Returns: this function returns the value of x^3 - x^2 -1 given x\n",
    "\"\"\"\n",
    "\n",
    "def f(x):\n",
    "    return (x**3 - x**2 - 1)\n",
    "\n",
    "\"\"\"\n",
    "This function calculates the value of d/dx(x^3 - x^2 - 1) \n",
    "Parameters: this function requires some int x\n",
    "Returns: this function returns the value of d/dx(x^3 - x^2 - 1) given x\n",
    "\"\"\"\n",
    "def df(x):\n",
    "    return ((3 * (x**2)) - (2 * x))\n",
    "\n",
    "\"\"\"\n",
    "This function calculates the Newton iteration of a function\n",
    "Parameters: this function requires some function, its derivitive, and a starting value for x (x0)\n",
    "Returns: this function prints the number of iterations untill a root is found or that the values were unfeasible \n",
    "\"\"\"\n",
    "def newton(f, df, x0, epsilon=1e-6, max_iter=30):\n",
    "    # declare xn to be x0 and a as an iteration counter\n",
    "    xn = x0\n",
    "    a = 0\n",
    "    # while loop\n",
    "    while a <= max_iter:\n",
    "        xn = xn - ((f(xn))/(df(xn)))\n",
    "        a+=1\n",
    "        # break conditions\n",
    "        if (abs(f(xn)) < epsilon): \n",
    "          print(\"found root in \" + a + \" iterations.\")\n",
    "          break\n",
    "        else: \n",
    "          print(\"Iteration failed.\")\n",
    "          break\n",
    "\n",
    "print(newton(f, df, 5))"
   ]
  },
  {
   "cell_type": "code",
   "execution_count": null,
   "id": "fd8d7704-ac1d-43fd-8bfb-cec275657f6d",
   "metadata": {},
   "outputs": [],
   "source": []
  }
 ],
 "metadata": {
  "kernelspec": {
   "display_name": "Python 3 (ipykernel)",
   "language": "python",
   "name": "python3"
  },
  "language_info": {
   "codemirror_mode": {
    "name": "ipython",
    "version": 3
   },
   "file_extension": ".py",
   "mimetype": "text/x-python",
   "name": "python",
   "nbconvert_exporter": "python",
   "pygments_lexer": "ipython3",
   "version": "3.10.11"
  }
 },
 "nbformat": 4,
 "nbformat_minor": 5
}
